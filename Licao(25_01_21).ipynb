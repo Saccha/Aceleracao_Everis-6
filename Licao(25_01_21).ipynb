{
  "nbformat": 4,
  "nbformat_minor": 0,
  "metadata": {
    "colab": {
      "name": "Licao(25/01/21).ipynb",
      "provenance": [],
      "collapsed_sections": [],
      "authorship_tag": "ABX9TyMXCEDCMDheNYejjAjiMFo7",
      "include_colab_link": true
    },
    "kernelspec": {
      "name": "python3",
      "display_name": "Python 3"
    }
  },
  "cells": [
    {
      "cell_type": "markdown",
      "metadata": {
        "id": "view-in-github",
        "colab_type": "text"
      },
      "source": [
        "<a href=\"https://colab.research.google.com/github/Saccha/licao-collab/blob/main/Licao(25_01_21).ipynb\" target=\"_parent\"><img src=\"https://colab.research.google.com/assets/colab-badge.svg\" alt=\"Open In Colab\"/></a>"
      ]
    },
    {
      "cell_type": "code",
      "metadata": {
        "colab": {
          "base_uri": "https://localhost:8080/"
        },
        "id": "3OVG3ux30yGx",
        "outputId": "fd102475-695c-49f1-c7fd-a39207342665"
      },
      "source": [
        "def helloWorld():\r\n",
        "  name = 'Aceleração Global #4 - Everis'\r\n",
        "  print(name)\r\n",
        "helloWorld()"
      ],
      "execution_count": 4,
      "outputs": [
        {
          "output_type": "stream",
          "text": [
            "Aceleração Global #4 - Everis\n"
          ],
          "name": "stdout"
        }
      ]
    },
    {
      "cell_type": "code",
      "metadata": {
        "colab": {
          "base_uri": "https://localhost:8080/"
        },
        "id": "x4zEDnUm1eh_",
        "outputId": "848ca997-4e14-4ce3-b335-32fbfe69f8ca"
      },
      "source": [
        "def calcBalada( age ):\r\n",
        "  \r\n",
        "  if( age >= 18 ):\r\n",
        "    print('Beleza, pode entrar na balada');\r\n",
        "  else:\r\n",
        "    print('Vaza, volta aqui mais tarde !');\r\n",
        "\r\n",
        "calcBalada( 28 )"
      ],
      "execution_count": 5,
      "outputs": [
        {
          "output_type": "stream",
          "text": [
            "Beleza, pode entrar na balada\n"
          ],
          "name": "stdout"
        }
      ]
    },
    {
      "cell_type": "code",
      "metadata": {
        "colab": {
          "base_uri": "https://localhost:8080/"
        },
        "id": "F7EaIXDc2ZwR",
        "outputId": "41763a9c-60af-4ee8-91fb-f77f328e38c5"
      },
      "source": [
        "def forExample():\r\n",
        "  \r\n",
        "  # Definindo o array\r\n",
        "  names = ['Huguinho', 'John', 'John 2'];\r\n",
        "\r\n",
        "  for name in names:\r\n",
        "    print( ' Aceleração global - ' + name )\r\n",
        "\r\n",
        "# Invocando a função\r\n",
        "forExample()"
      ],
      "execution_count": 6,
      "outputs": [
        {
          "output_type": "stream",
          "text": [
            " Aceleração global - Huguinho\n",
            " Aceleração global - John\n",
            " Aceleração global - John 2\n"
          ],
          "name": "stdout"
        }
      ]
    },
    {
      "cell_type": "code",
      "metadata": {
        "id": "BydKUjLd21fk"
      },
      "source": [
        "def mapExample():\r\n",
        "\r\n",
        "  person1 = {\r\n",
        "      'name' : 'Huguinho',\r\n",
        "      'title' : 'Expert IT Techonology'\r\n",
        "  };\r\n",
        "\r\n",
        "  for key in person1:\r\n",
        "    print('key', key, ' | value', person1[ key ] )\r\n",
        "\r\n",
        "mapExample()"
      ],
      "execution_count": null,
      "outputs": []
    },
    {
      "cell_type": "code",
      "metadata": {
        "colab": {
          "base_uri": "https://localhost:8080/"
        },
        "id": "5BSaMtNx25_0",
        "outputId": "16c22592-deb9-4cf7-d0e0-c9ce9fd73be8"
      },
      "source": [
        "def forWithMap():\r\n",
        "\r\n",
        "  person1 = {\r\n",
        "      'name' : 'Huguinho',\r\n",
        "      'title' : 'Expert IT Techonology'\r\n",
        "  };\r\n",
        "\r\n",
        "  person2 = {\r\n",
        "      'name' : 'User 2',\r\n",
        "      'title' : 'Student from everis Aceleration'\r\n",
        "  };\r\n",
        "\r\n",
        "  lista = [];\r\n",
        "  lista.append( person1 );\r\n",
        "  lista.append( person2 );\r\n",
        "\r\n",
        "  print('tamanho do array', len( lista ) );\r\n",
        "\r\n",
        "  for obj in lista:\r\n",
        "    print('Nome: ', obj['name'], ' | title: ', obj['title'] );\r\n",
        "\r\n",
        "forWithMap();"
      ],
      "execution_count": 7,
      "outputs": [
        {
          "output_type": "stream",
          "text": [
            "tamanho do array 2\n",
            "Nome:  Huguinho  | title:  Expert IT Techonology\n",
            "Nome:  User 2  | title:  Student from everis Aceleration\n"
          ],
          "name": "stdout"
        }
      ]
    }
  ]
}