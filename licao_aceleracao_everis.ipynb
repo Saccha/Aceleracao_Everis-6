{
  "nbformat": 4,
  "nbformat_minor": 0,
  "metadata": {
    "colab": {
      "name": "licao_aceleracao_everis.ipynb",
      "provenance": [],
      "collapsed_sections": [],
      "authorship_tag": "ABX9TyOnzoacHeOJdB5bBIAtQN4u"
    },
    "kernelspec": {
      "name": "python3",
      "display_name": "Python 3"
    }
  },
  "cells": [
    {
      "cell_type": "code",
      "metadata": {
        "colab": {
          "base_uri": "https://localhost:8080/"
        },
        "id": "d4BTkjgjGtvl",
        "outputId": "e595ef79-0a45-42ad-b963-555ab5aa74a0"
      },
      "source": [
        "def helloWorld():\n",
        "  name = 'Aceleração Global #4 - Everis'\n",
        "  print( name )\n",
        "\n",
        "helloWorld()"
      ],
      "execution_count": 1,
      "outputs": [
        {
          "output_type": "stream",
          "text": [
            "Aceleração Global #4 - Everis\n"
          ],
          "name": "stdout"
        }
      ]
    },
    {
      "cell_type": "code",
      "metadata": {
        "colab": {
          "base_uri": "https://localhost:8080/"
        },
        "id": "V8UROnOzG4Jv",
        "outputId": "0155a65b-50ef-4bc7-d459-3dcf924eadc9"
      },
      "source": [
        "def calcBalada( age ):\n",
        "  \n",
        "  if( age >= 18 ):\n",
        "    print('Beleza, pode entrar na balada');\n",
        "  else:\n",
        "    print('Vaza, volta aqui mais tarde !');\n",
        "\n",
        "calcBalada( 14 )"
      ],
      "execution_count": 3,
      "outputs": [
        {
          "output_type": "stream",
          "text": [
            "Vaza, volta aqui mais tarde !\n"
          ],
          "name": "stdout"
        }
      ]
    },
    {
      "cell_type": "code",
      "metadata": {
        "colab": {
          "base_uri": "https://localhost:8080/"
        },
        "id": "JN3bLiBFG9Ns",
        "outputId": "4af1e577-a011-4efe-896a-7787eb8bffc7"
      },
      "source": [
        "def forExample():\n",
        "  \n",
        "  # Definindo o array\n",
        "  names = ['Alfa', 'Beta', 'Gama'];\n",
        "\n",
        "  for name in names:\n",
        "    print( ' Aceleração global - ' + name )\n",
        "\n",
        "# Invocando a função\n",
        "forExample()"
      ],
      "execution_count": 5,
      "outputs": [
        {
          "output_type": "stream",
          "text": [
            " Aceleração global - Alfa\n",
            " Aceleração global - Beta\n",
            " Aceleração global - Gama\n"
          ],
          "name": "stdout"
        }
      ]
    },
    {
      "cell_type": "code",
      "metadata": {
        "colab": {
          "base_uri": "https://localhost:8080/"
        },
        "id": "znjGb4fnHLqt",
        "outputId": "f032ee7f-3c8a-4c2d-8a04-5a6086894d16"
      },
      "source": [
        "def mapExample():\n",
        "\n",
        "  person1 = {\n",
        "      'name' : 'Alfa',\n",
        "      'title' : 'Expert IT Techonology'\n",
        "  };\n",
        "\n",
        "  for key in person1:\n",
        "    print('key', key, ' | value', person1[ key ] )\n",
        "\n",
        "mapExample()"
      ],
      "execution_count": 7,
      "outputs": [
        {
          "output_type": "stream",
          "text": [
            "key name  | value Alfa\n",
            "key title  | value Expert IT Techonology\n"
          ],
          "name": "stdout"
        }
      ]
    },
    {
      "cell_type": "code",
      "metadata": {
        "colab": {
          "base_uri": "https://localhost:8080/"
        },
        "id": "lvw9bZf1HapV",
        "outputId": "750a4694-1019-426d-bc3c-4bc20b5ba379"
      },
      "source": [
        "def forWithMap():\n",
        "\n",
        "  person1 = {\n",
        "      'name' : 'Alfa',\n",
        "      'title' : 'Expert IT Techonology'\n",
        "  };\n",
        "\n",
        "  person2 = {\n",
        "      'name' : 'Beta',\n",
        "      'title' : 'Student from everis Aceleration'\n",
        "  };\n",
        "\n",
        "  lista = [];\n",
        "  lista.append( person1 );\n",
        "  lista.append( person2 );\n",
        "\n",
        "  print('tamanho do array', len( lista ) );\n",
        "\n",
        "  for obj in lista:\n",
        "    print('Nome: ', obj['name'], ' | title: ', obj['title'] );\n",
        "\n",
        "forWithMap();"
      ],
      "execution_count": 8,
      "outputs": [
        {
          "output_type": "stream",
          "text": [
            "tamanho do array 2\n",
            "Nome:  Alfa  | title:  Expert IT Techonology\n",
            "Nome:  Beta  | title:  Student from everis Aceleration\n"
          ],
          "name": "stdout"
        }
      ]
    }
  ]
}