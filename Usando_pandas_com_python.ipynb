{
  "nbformat": 4,
  "nbformat_minor": 0,
  "metadata": {
    "colab": {
      "name": "Usando_pandas_com_python.ipynb",
      "provenance": [],
      "authorship_tag": "ABX9TyPn322UIMoC3c9ctbztx9wm"
    },
    "kernelspec": {
      "name": "python3",
      "display_name": "Python 3"
    }
  },
  "cells": [
    {
      "cell_type": "code",
      "metadata": {
        "colab": {
          "base_uri": "https://localhost:8080/"
        },
        "id": "NElzn_9lIaom",
        "outputId": "0899dfe5-74de-43a0-9f09-6072790ddd05"
      },
      "source": [
        "import pandas as pd\n",
        "def createDataframe():\n",
        "\n",
        "  map = {\n",
        "      \"name\" : [\"Alfa\", \"Beta\", \"Gama\"],\n",
        "      \"age\" : [ 28, 18, 32 ],\n",
        "      \"location\" : [\"Santos\", \"São Paulo\", \"Rio de Janeiro\"]\n",
        "  }\n",
        "\n",
        "  df = pd.DataFrame( map );\n",
        "\n",
        "  print( df );\n",
        "\n",
        "createDataframe()"
      ],
      "execution_count": 3,
      "outputs": [
        {
          "output_type": "stream",
          "text": [
            "   name  age        location\n",
            "0  Alfa   28          Santos\n",
            "1  Beta   18       São Paulo\n",
            "2  Gama   32  Rio de Janeiro\n"
          ],
          "name": "stdout"
        }
      ]
    },
    {
      "cell_type": "code",
      "metadata": {
        "colab": {
          "base_uri": "https://localhost:8080/"
        },
        "id": "G-vBSlCgJXnr",
        "outputId": "f4ec7b80-1250-49a8-bc53-7d9ccc2e674b"
      },
      "source": [
        "def iterateDataframe():\n",
        "\n",
        "  map = {\n",
        "      \"name\" : [\"Alfa\", \"Gama\", \"Beta\"],\n",
        "      \"age\" : [ 28, 18, 32 ],\n",
        "      \"location\" : [\"Santos\", \"São Paulo\", \"Rio de Janeiro\"]\n",
        "  }\n",
        "\n",
        "  df = pd.DataFrame( map );\n",
        "\n",
        "  # não indicado para alto volume de dados ( somente para conhecimento )\n",
        "  for index in df.index:\n",
        "    print(\"item\", df[\"name\"][ index ], \" | index\", index  );\n",
        "\n",
        "iterateDataframe()"
      ],
      "execution_count": 4,
      "outputs": [
        {
          "output_type": "stream",
          "text": [
            "item Alfa  | index 0\n",
            "item Gama  | index 1\n",
            "item Beta  | index 2\n"
          ],
          "name": "stdout"
        }
      ]
    },
    {
      "cell_type": "code",
      "metadata": {
        "colab": {
          "base_uri": "https://localhost:8080/"
        },
        "id": "CgKnBw9lJfOo",
        "outputId": "9c0db0f2-40d3-4542-84a8-a63adc6fe952"
      },
      "source": [
        "def addColumnDataframe():\n",
        "\n",
        "  map = {\n",
        "      \"name\" : [\"Alfa\", \"Beta\", \"Gama\"],\n",
        "      \"age\" : [ 28, 18, 32 ],\n",
        "      \"location\" : [\"Santos\", \"São Paulo\", \"Rio de Janeiro\"]\n",
        "  }\n",
        "\n",
        "  df = pd.DataFrame( map );\n",
        "\n",
        "  # adicionando uma nova coluna\n",
        "  address = ['Rua de teste 1', 'Rua de teste 2', 'Rua de teste 3'];\n",
        "\n",
        "  df['address'] = address;\n",
        "\n",
        "  print( df )\n",
        "\n",
        "addColumnDataframe()"
      ],
      "execution_count": 5,
      "outputs": [
        {
          "output_type": "stream",
          "text": [
            "   name  age        location         address\n",
            "0  Alfa   28          Santos  Rua de teste 1\n",
            "1  Beta   18       São Paulo  Rua de teste 2\n",
            "2  Gama   32  Rio de Janeiro  Rua de teste 3\n"
          ],
          "name": "stdout"
        }
      ]
    },
    {
      "cell_type": "code",
      "metadata": {
        "colab": {
          "base_uri": "https://localhost:8080/"
        },
        "id": "IbGlJDO1J21g",
        "outputId": "11f37dee-4f95-4871-dfa2-776a4fcd2e18"
      },
      "source": [
        "def removeColumnDataframe():\n",
        "\n",
        "  map = {\n",
        "      \"name\" : [\"Alfa\", \"Beta\", \"Gama\"],\n",
        "      \"age\" : [ 28, 18, 32 ],\n",
        "      \"location\" : [\"Santos\", \"São Paulo\", \"Rio de Janeiro\"]\n",
        "  }\n",
        "\n",
        "  df = pd.DataFrame( map );\n",
        "\n",
        "  # Removendo a linha pelo índice\n",
        "  df = df.drop(1)\n",
        "\n",
        "  print( df )\n",
        "\n",
        "  print(\"---------------------------\")\n",
        "\n",
        "  # Removendo a coluna\n",
        "  df = df.drop( columns=[\"age\"] );\n",
        "\n",
        "  print ( df );\n",
        "\n",
        "removeColumnDataframe()"
      ],
      "execution_count": 6,
      "outputs": [
        {
          "output_type": "stream",
          "text": [
            "   name  age        location\n",
            "0  Alfa   28          Santos\n",
            "2  Gama   32  Rio de Janeiro\n",
            "---------------------------\n",
            "   name        location\n",
            "0  Alfa          Santos\n",
            "2  Gama  Rio de Janeiro\n"
          ],
          "name": "stdout"
        }
      ]
    },
    {
      "cell_type": "code",
      "metadata": {
        "colab": {
          "base_uri": "https://localhost:8080/"
        },
        "id": "E50IH_KFKBSX",
        "outputId": "654e52b6-a8e4-45a9-a3a7-5c62331f2db9"
      },
      "source": [
        "\n",
        "def filterDataframe():\n",
        "\n",
        "  map = {\n",
        "      \"name\" : [\"Alfa\", \"Beta\", \"Gama\", \"Delta\", \"Épsilon\"],\n",
        "      \"age\" : [ 28, 18, 32, 17, 14 ],\n",
        "      \"location\" : [\"Santos\", \"São Paulo\", \"Rio de Janeiro\", \"Santa Catarina\", \"Goiás\"]\n",
        "  }\n",
        "\n",
        "  df = pd.DataFrame( map );\n",
        "\n",
        "  # criando o filtro\n",
        "  filter = df[\"age\"] >= 18;\n",
        "\n",
        "  # Filtrando a lista\n",
        "  filteredList = df[ filter ];\n",
        "\n",
        "  print ( df );\n",
        "  print(\"----------------------\");\n",
        "  print( filteredList )\n",
        "\n",
        "filterDataframe()"
      ],
      "execution_count": 8,
      "outputs": [
        {
          "output_type": "stream",
          "text": [
            "      name  age        location\n",
            "0     Alfa   28          Santos\n",
            "1     Beta   18       São Paulo\n",
            "2     Gama   32  Rio de Janeiro\n",
            "3    Delta   17  Santa Catarina\n",
            "4  Épsilon   14           Goiás\n",
            "----------------------\n",
            "   name  age        location\n",
            "0  Alfa   28          Santos\n",
            "1  Beta   18       São Paulo\n",
            "2  Gama   32  Rio de Janeiro\n"
          ],
          "name": "stdout"
        }
      ]
    },
    {
      "cell_type": "code",
      "metadata": {
        "colab": {
          "base_uri": "https://localhost:8080/"
        },
        "id": "FiLBzJBTKh9X",
        "outputId": "f3d95002-ebec-4d7c-a995-b25e9e5f050a"
      },
      "source": [
        "def stringDataframe():\n",
        "\n",
        "  map = {\n",
        "      \"name\" : [\"Alfa\", \"Beta\", \"Gama\", \"Delta\", \"Épsilon\"],\n",
        "      \"age\" : [ 28, 18, 32, 17, 14 ],\n",
        "      \"location\" : [\"santos\", \"são Paulo\", \"rio de Janeiro\", \"Santa catarina\", \"Goiás\"]\n",
        "  }\n",
        "\n",
        "  df = pd.DataFrame( map );\n",
        "\n",
        "\n",
        "  print(\"original dataframe\")\n",
        "  print ( df );\n",
        "  print(\"-------------------------------------------\");\n",
        "\n",
        "  # maiúscula\n",
        "  print()\n",
        "  print(\"Upper case\")\n",
        "  print( df[\"location\"].str.upper() )\n",
        "  print(\"--------------------------------------------\");\n",
        "\n",
        "  print()\n",
        "  print(\"Upper in dataframe\")\n",
        "  df[\"location\"] = df[\"location\"].str.upper()\n",
        "  print( df );\n",
        "  print(\"------------------------------------------\");\n",
        "\n",
        "  # Somente a primeira maiuscula\n",
        "  print()\n",
        "  print(\"Capitalize\")\n",
        "  df[\"location\"] = df[\"location\"].str.capitalize()\n",
        "  print( df );\n",
        "  print(\"------------------------------------------\");\n",
        "\n",
        "  # Somente a primeira de cada palavra\n",
        "  print()\n",
        "  print(\"Title\")\n",
        "  df[\"location\"] = df[\"location\"].str.title()\n",
        "  print( df );\n",
        "  print(\"------------------------------------------\");\n",
        "\n",
        "stringDataframe()"
      ],
      "execution_count": 9,
      "outputs": [
        {
          "output_type": "stream",
          "text": [
            "original dataframe\n",
            "      name  age        location\n",
            "0     Alfa   28          santos\n",
            "1     Beta   18       são Paulo\n",
            "2     Gama   32  rio de Janeiro\n",
            "3    Delta   17  Santa catarina\n",
            "4  Épsilon   14           Goiás\n",
            "-------------------------------------------\n",
            "\n",
            "Upper case\n",
            "0            SANTOS\n",
            "1         SÃO PAULO\n",
            "2    RIO DE JANEIRO\n",
            "3    SANTA CATARINA\n",
            "4             GOIÁS\n",
            "Name: location, dtype: object\n",
            "--------------------------------------------\n",
            "\n",
            "Upper in dataframe\n",
            "      name  age        location\n",
            "0     Alfa   28          SANTOS\n",
            "1     Beta   18       SÃO PAULO\n",
            "2     Gama   32  RIO DE JANEIRO\n",
            "3    Delta   17  SANTA CATARINA\n",
            "4  Épsilon   14           GOIÁS\n",
            "------------------------------------------\n",
            "\n",
            "Capitalize\n",
            "      name  age        location\n",
            "0     Alfa   28          Santos\n",
            "1     Beta   18       São paulo\n",
            "2     Gama   32  Rio de janeiro\n",
            "3    Delta   17  Santa catarina\n",
            "4  Épsilon   14           Goiás\n",
            "------------------------------------------\n",
            "\n",
            "Title\n",
            "      name  age        location\n",
            "0     Alfa   28          Santos\n",
            "1     Beta   18       São Paulo\n",
            "2     Gama   32  Rio De Janeiro\n",
            "3    Delta   17  Santa Catarina\n",
            "4  Épsilon   14           Goiás\n",
            "------------------------------------------\n"
          ],
          "name": "stdout"
        }
      ]
    },
    {
      "cell_type": "code",
      "metadata": {
        "colab": {
          "base_uri": "https://localhost:8080/"
        },
        "id": "mTU-FXm8K1z8",
        "outputId": "94b8508c-f83d-47ce-b55e-88637a998c75"
      },
      "source": [
        "def renameDataframe():\n",
        "\n",
        "  map = {\n",
        "      \"name\" : [\"Alfa\", \"Beta\", \"Gama\", \"Delta\", \"Épsilon\"],\n",
        "      \"age\" : [ 28, 18, 32, 17, 14 ],\n",
        "      \"location\" : [\"Santos\", \"São Paulo\", \"Rio de Janeiro\", \"Santa Catarina\", \"Goiás\"]\n",
        "  }\n",
        "\n",
        "  df = pd.DataFrame( map );\n",
        "\n",
        "  # renomeando\n",
        "  df = df.rename(columns={\"age\": \"idade\", \"location\": \"localizacao\"})\n",
        "\n",
        "  print ( df );\n",
        "  print(\"----------------------\");\n",
        "\n",
        "renameDataframe()"
      ],
      "execution_count": 10,
      "outputs": [
        {
          "output_type": "stream",
          "text": [
            "      name  idade     localizacao\n",
            "0     Alfa     28          Santos\n",
            "1     Beta     18       São Paulo\n",
            "2     Gama     32  Rio de Janeiro\n",
            "3    Delta     17  Santa Catarina\n",
            "4  Épsilon     14           Goiás\n",
            "----------------------\n"
          ],
          "name": "stdout"
        }
      ]
    },
    {
      "cell_type": "code",
      "metadata": {
        "colab": {
          "base_uri": "https://localhost:8080/"
        },
        "id": "5OdvGKLpLClX",
        "outputId": "05581a38-d14d-4b2f-f1a0-f1d974b19967"
      },
      "source": [
        "def jsonDataframe():\n",
        "\n",
        "  map = {\n",
        "      \"name\" : [\"Alfa\", \"Beta\", \"Gama\", \"Delta\", \"Épsilon\"],\n",
        "      \"age\" : [ 28, 18, 32, 17, 14 ]\n",
        "  }\n",
        "\n",
        "  df = pd.DataFrame( map );\n",
        "\n",
        "  # json\n",
        "  json = df.to_json(orient=\"records\")\n",
        "\n",
        "  print ( df );\n",
        "  print(\"----------------------\");\n",
        "  print( json )\n",
        "\n",
        "jsonDataframe()"
      ],
      "execution_count": 11,
      "outputs": [
        {
          "output_type": "stream",
          "text": [
            "      name  age\n",
            "0     Alfa   28\n",
            "1     Beta   18\n",
            "2     Gama   32\n",
            "3    Delta   17\n",
            "4  Épsilon   14\n",
            "----------------------\n",
            "[{\"name\":\"Alfa\",\"age\":28},{\"name\":\"Beta\",\"age\":18},{\"name\":\"Gama\",\"age\":32},{\"name\":\"Delta\",\"age\":17},{\"name\":\"\\u00c9psilon\",\"age\":14}]\n"
          ],
          "name": "stdout"
        }
      ]
    }
  ]
}